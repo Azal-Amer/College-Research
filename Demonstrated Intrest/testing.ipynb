{
 "cells": [
  {
   "cell_type": "code",
   "execution_count": 1,
   "metadata": {},
   "outputs": [],
   "source": [
    "import os\n",
    "import pickle\n",
    "# Gmail API utils\n",
    "from googleapiclient.discovery import build\n",
    "from google_auth_oauthlib.flow import InstalledAppFlow\n",
    "from google.auth.transport.requests import Request\n",
    "# for encoding/decoding messages in base64\n",
    "from base64 import urlsafe_b64decode, urlsafe_b64encode\n",
    "# for dealing with attachement MIME types\n",
    "from email.mime.text import MIMEText\n",
    "from email.mime.multipart import MIMEMultipart\n",
    "from email.mime.image import MIMEImage\n",
    "from email.mime.audio import MIMEAudio\n",
    "from email.mime.base import MIMEBase\n",
    "from mimetypes import guess_type as guess_mime_type\n",
    "\n",
    "# Request all access (permission to read/send/receive emails, manage the inbox, and more)\n",
    "SCOPES = ['https://mail.google.com/']\n",
    "our_email = 'theendernaut@gmail.com'"
   ]
  },
  {
   "cell_type": "code",
   "execution_count": null,
   "metadata": {},
   "outputs": [],
   "source": []
  },
  {
   "cell_type": "markdown",
   "metadata": {},
   "source": [
    "# All the below code was taken from the following link\n",
    "https://www.thepythoncode.com/article/use-gmail-api-in-python\n"
   ]
  },
  {
   "cell_type": "code",
   "execution_count": 2,
   "metadata": {},
   "outputs": [],
   "source": [
    "import os\n",
    "import pickle\n",
    "# Gmail API utils\n",
    "from googleapiclient.discovery import build\n",
    "from google_auth_oauthlib.flow import InstalledAppFlow\n",
    "from google.auth.transport.requests import Request\n",
    "# for encoding/decoding messages in base64\n",
    "from base64 import urlsafe_b64decode, urlsafe_b64encode\n",
    "# for dealing with attachement MIME types\n",
    "from email.mime.text import MIMEText\n",
    "from email.mime.multipart import MIMEMultipart\n",
    "from email.mime.image import MIMEImage\n",
    "from email.mime.audio import MIMEAudio\n",
    "from email.mime.base import MIMEBase\n",
    "from mimetypes import guess_type as guess_mime_type\n",
    "\n",
    "# Request all access (permission to read/send/receive emails, manage the inbox, and more)\n",
    "SCOPES = ['https://mail.google.com/']\n",
    "our_email = 'your_gmail@gmail.com'\n",
    "\n",
    "# Obviously, you need to change our_email to your address, make sure you use the email you created the API auth with.\n",
    "\n",
    "# First of all, let's make a function that loads the credentials.json, does the authentication with Gmail API and returns a service object that can be used later in all in our upcoming functions:\n",
    "\n",
    "def gmail_authenticate():\n",
    "    creds = None\n",
    "    # the file token.pickle stores the user's access and refresh tokens, and is\n",
    "    # created automatically when the authorization flow completes for the first time\n",
    "    if os.path.exists(\"token.pickle\"):\n",
    "        with open(\"token.pickle\", \"rb\") as token:\n",
    "            creds = pickle.load(token)\n",
    "    # if there are no (valid) credentials availablle, let the user log in.\n",
    "    if not creds or not creds.valid:\n",
    "        if creds and creds.expired and creds.refresh_token:\n",
    "            creds.refresh(Request())\n",
    "        else:\n",
    "            flow = InstalledAppFlow.from_client_secrets_file('creds.json', SCOPES)\n",
    "            creds = flow.run_local_server(port=0)\n",
    "        # save the credentials for the next run\n",
    "        with open(\"token.pickle\", \"wb\") as token:\n",
    "            pickle.dump(creds, token)\n",
    "    return build('gmail', 'v1', credentials=creds)\n",
    "\n",
    "# get the Gmail API service\n",
    "service = gmail_authenticate()"
   ]
  },
  {
   "cell_type": "code",
   "execution_count": 3,
   "metadata": {},
   "outputs": [],
   "source": [
    "def search_messages(service, query):\n",
    "    result = service.users().messages().list(userId='me',q=query).execute()\n",
    "    messages = [ ]\n",
    "    if 'messages' in result:\n",
    "        messages.extend(result['messages'])\n",
    "    while 'nextPageToken' in result:\n",
    "        page_token = result['nextPageToken']\n",
    "        result = service.users().messages().list(userId='me',q=query, pageToken=page_token).execute()\n",
    "        if 'messages' in result:\n",
    "            messages.extend(result['messages'])\n",
    "    return messages\n"
   ]
  },
  {
   "cell_type": "code",
   "execution_count": 4,
   "metadata": {},
   "outputs": [],
   "source": [
    "# utility functions\n",
    "def get_size_format(b, factor=1024, suffix=\"B\"):\n",
    "    \"\"\"\n",
    "    Scale bytes to its proper byte format\n",
    "    e.g:\n",
    "        1253656 => '1.20MB'\n",
    "        1253656678 => '1.17GB'\n",
    "    \"\"\"\n",
    "    for unit in [\"\", \"K\", \"M\", \"G\", \"T\", \"P\", \"E\", \"Z\"]:\n",
    "        if b < factor:\n",
    "            return f\"{b:.2f}{unit}{suffix}\"\n",
    "        b /= factor\n",
    "    return f\"{b:.2f}Y{suffix}\"\n",
    "\n",
    "\n",
    "def clean(text):\n",
    "    # clean text for creating a folder\n",
    "    return \"\".join(c if c.isalnum() else \"_\" for c in text)"
   ]
  },
  {
   "cell_type": "code",
   "execution_count": 5,
   "metadata": {},
   "outputs": [],
   "source": [
    "def parse_parts(service, parts, message):\n",
    "    \"\"\"\n",
    "    Utility function that parses the content of an email partition\n",
    "    \"\"\"\n",
    "    if parts:\n",
    "        for part in parts:\n",
    "            mimeType = part.get(\"mimeType\")\n",
    "            body = part.get(\"body\")\n",
    "            data = body.get(\"data\")\n",
    "            part_headers = part.get(\"headers\")\n",
    "            if part.get(\"parts\"):\n",
    "                # recursively call this function when we see that a part\n",
    "                # has parts inside\n",
    "                parse_parts(service, part.get(\"parts\"), message)\n",
    "            if mimeType == \"text/plain\":\n",
    "                # if the email part is text plain\n",
    "                if data:\n",
    "                    text = urlsafe_b64decode(data).decode()\n",
    "            elif mimeType == \"text/html\":\n",
    "                # if the email part is an HTML content\n",
    "                # save the HTML file and optionally open it in the browser\n",
    "                html = (urlsafe_b64decode(data))\n",
    "                return html\n",
    "            else:\n",
    "                # attachment other than a plain text or HTML\n",
    "                for part_header in part_headers:\n",
    "                    part_header_name = part_header.get(\"name\")\n",
    "                    part_header_value = part_header.get(\"value\")\n",
    "                    if part_header_name == \"Content-Disposition\":\n",
    "                        if \"attachment\" in part_header_value:\n",
    "                            # we get the attachment ID \n",
    "                            # and make another request to get the attachment itself\n",
    "                            attachment_id = body.get(\"attachmentId\")\n",
    "                            attachment = service.users().messages() \\\n",
    "                                        .attachments().get(id=attachment_id, userId='me', messageId=message['id']).execute()\n",
    "                            data = attachment.get(\"data\")\n",
    "                            if data:\n",
    "                                html = (urlsafe_b64decode(data))\n",
    "                return html\n"
   ]
  },
  {
   "cell_type": "code",
   "execution_count": 6,
   "metadata": {},
   "outputs": [],
   "source": [
    "def read_message(service, message):\n",
    "    \"\"\"\n",
    "    This function takes Gmail API `service` and the given `message_id` and does the following:\n",
    "        - Downloads the content of the email\n",
    "        - Prints email basic information (To, From, Subject & Date) and plain/text parts\n",
    "        - Creates a folder for each email based on the subject\n",
    "        - Downloads text/html content (if available) and saves it under the folder created as index.html\n",
    "        - Downloads any file that is attached to the email and saves it in the folder created\n",
    "    \"\"\"\n",
    "    msg = service.users().messages().get(userId='me', id=message['id'], format='full').execute()\n",
    "    # parts can be the message body, or attachments\n",
    "    payload = msg['payload']\n",
    "    \n",
    "    parts = payload.get(\"parts\")\n",
    "        # since folders are created based on subjects\n",
    "    data = parse_parts(service, parts, message)\n",
    "    return data"
   ]
  },
  {
   "cell_type": "code",
   "execution_count": 7,
   "metadata": {},
   "outputs": [
    {
     "name": "stdout",
     "output_type": "stream",
     "text": [
      "['https://www.fastweb.com/nfs/fastweb/static/2019/notifications/upcoming-deadlines@2x_1200x270.gif', 'https://crcdn01.adnxs-simple.com/creative/p/3525/2021/11/30/30178320/212e9617-1c71-4201-af2d-92b1b7f5d803.jpg', 'https://lax1-ib.adnxs.com/ot?ps=2a0cffdc8487e159ba87cdd75ab06dcbfc6f936e&pe=wqT_3QJeTF4AAAADAOoABQEIgvS0jQYQAxkADQEAIQ0IbAAoxRswxRs4u6FHQISTzwdIBVACWIKqywFgAXkJIxTwP4IBCQkJDDAAAIgBAJABz-FZmAEA&pp=%24%7BAUCTION_PRICE%7D&an_audit=0&urlenc=https%3A%2F%2Fsecure.adnxs.com%2Fimptr%3Fid%3D48763%26cachebuster%3D1638742531687734470%26t%3D2', 'https://www.fastweb.com/nfs/fastweb/static/2017/notifications/facebook.png', 'https://www.fastweb.com/nfs/fastweb/static/2017/notifications/twitter.png', 'https://www.fastweb.com/nfs/fastweb/static/2017/notifications/pinterest.png', 'https://www.fastweb.com/nfs/fastweb/static/2017/notifications/instagram.png', 'https://www.fastweb.com/nfs/fastweb/static/2019/notifications/a-monster-company_250x24@2x.png', 'https://www.fastweb.com/uploads/widget_photo/photo/2037246/appstore-lrg-apple.png', 'https://www.fastweb.com/uploads/widget_photo/photo/2037245/appstore-lrg.png', 'https://pixel.monitor1.returnpath.net/pixel.gif?r=jUk0DZvfAy3OXTqoXt4lGH8Ukg&c=32345&Fastweb=awards', 'https://www.fastweb.com/tracking/pixel?ee=36A0DF24F0B5B60A91A72D3A0E80894922FB9B9F01176B6CFCDB2D75EF0D99C5&original_send_date=2021_12_04&source=AwardNotificationSend&version=AwardDeadline']\n"
     ]
    }
   ],
   "source": [
    "pings = search_messages(service,'MIT')\n",
    "html = read_message(service, pings[0])\n",
    "# print(html)\n",
    "from bs4 import BeautifulSoup as bs\n",
    "soup = bs(html,'lxml')\n",
    "# print(soup)\n",
    "links = [a.get('href') for a in soup.find_all('a', href=True)]\n",
    "images = [a.get('src') for a in soup.find_all('img')]\n",
    "print(images)"
   ]
  }
 ],
 "metadata": {
  "interpreter": {
   "hash": "03b31e0dbf5ee774e49906e1a4e99cf39d3bc46df0e15af7b9d16b1e9b24f047"
  },
  "kernelspec": {
   "display_name": "Python 3.9.6 64-bit",
   "language": "python",
   "name": "python3"
  },
  "language_info": {
   "codemirror_mode": {
    "name": "ipython",
    "version": 3
   },
   "file_extension": ".py",
   "mimetype": "text/x-python",
   "name": "python",
   "nbconvert_exporter": "python",
   "pygments_lexer": "ipython3",
   "version": "3.9.6"
  },
  "orig_nbformat": 4
 },
 "nbformat": 4,
 "nbformat_minor": 2
}
